{
 "cells": [
  {
   "cell_type": "code",
   "execution_count": null,
   "metadata": {},
   "outputs": [],
   "source": [
    "import requests\n",
    "import pandas as pd\n",
    "from bs4 import BeautifulSoup\n",
    "\n",
    "\n",
    "DICT_HEADER = {\n",
    "  'User-Agent':\n",
    "  'Mozilla/5.0 (X11; Linux x86_64) AppleWebKit/537.36 (KHTML, like Gecko) Ubuntu Chromium/37.0.2062.94 Chrome/37.0.2062.94 Safari/537.36'\n",
    "}\n",
    "\n",
    "\n",
    "def get_soup(URL):\n",
    "  response = requests.get(URL, headers=DICT_HEADER).content\n",
    "  soup = BeautifulSoup(response, 'html.parser')\n",
    "  return soup\n",
    "\n",
    "\n",
    "def get_movies(genre):\n",
    "  URL = 'https://www.imdb.com/calendar/?ref_=nv_mv_cal'\n",
    "  soup = get_soup(URL)\n",
    "  lista_lis = soup.find_all('li', class_='ipc-metadata-list-summary-item')\n",
    "  dict_movies = {}\n",
    "  for li in lista_lis:\n",
    "    link = li.find('a')\n",
    "    url = 'https://www.imdb.com' + link['href']\n",
    "    list_genres = []\n",
    "    try:\n",
    "      generos = li.find_all('ul')[0]\n",
    "      for genero in generos:\n",
    "        list_genres.append(genero.text)\n",
    "    except:\n",
    "      pass\n",
    "    if genre in list_genres:\n",
    "        codigo = url.split('/')[-2]\n",
    "        dict_movies[codigo] = {'url':url,  'genero': list_genres, 'titulo': link.text}\n",
    "  \n",
    "  return dict_movies"
   ]
  }
 ],
 "metadata": {
  "language_info": {
   "name": "python"
  },
  "orig_nbformat": 4
 },
 "nbformat": 4,
 "nbformat_minor": 2
}
