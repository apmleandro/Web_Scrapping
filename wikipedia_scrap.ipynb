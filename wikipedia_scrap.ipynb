{
 "cells": [
  {
   "cell_type": "code",
   "execution_count": null,
   "metadata": {},
   "outputs": [],
   "source": [
    "import requests\n",
    "import pandas as pd\n",
    "from bs4 import BeautifulSoup\n",
    "\n",
    "dict_header = {\n",
    "  'User-Agent':\n",
    "  'Mozilla/5.0 (X11; Linux x86_64) AppleWebKit/537.36 (KHTML, like Gecko) Ubuntu Chromium/37.0.2062.94 Chrome/37.0.2062.94 Safari/537.36'\n",
    "}\n",
    "\n",
    "URL = 'https://pt.wikipedia.org/wiki/Lista_de_estados_brasileiros_por_n%C3%BAmero_de_munic%C3%ADpios'\n",
    "\n",
    "response = requests.get(URL).content\n",
    "soup = BeautifulSoup(response, 'html.parser')\n",
    "tabela_estados = soup.find_all('table', class_='wikitable sortable')[1]\n",
    "linhas = tabela_estados.find('tbody').find_all('tr')\n",
    "lista_regioes = []\n",
    "\n",
    "for linha in linhas[1:]:\n",
    "  colunas = linha.find_all('td')\n",
    "  nome_estado      = colunas[1].text.strip()\n",
    "  nome_regiao      = colunas[2].text\n",
    "  qtd_municipios   = int(colunas[3].text)\n",
    "  num_habitantes   = int(\"\".join(colunas[4].text.split()))\n",
    "  media_habitantes = float(\"\".join(colunas[5].text.replace(',','.').split()))\n",
    "  \n",
    "  dict = {\n",
    "    'estado'          : nome_estado,\n",
    "    'regiao'          : nome_regiao,\n",
    "    'qtd_municipios'  : qtd_municipios,\n",
    "    'num_habitantes'  : num_habitantes,\n",
    "    'media_habitantes': media_habitantes\n",
    "  }\n",
    "  \n",
    "  lista_regioes.append(dict)\n",
    "\n",
    "df = pd.DataFrame(lista_regioes)\n",
    "df.to_csv('lista_regioes.csv')"
   ]
  }
 ],
 "metadata": {
  "language_info": {
   "name": "python"
  },
  "orig_nbformat": 4
 },
 "nbformat": 4,
 "nbformat_minor": 2
}
